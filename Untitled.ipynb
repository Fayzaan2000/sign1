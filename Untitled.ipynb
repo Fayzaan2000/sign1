{
 "cells": [
  {
   "cell_type": "code",
   "execution_count": 1,
   "metadata": {},
   "outputs": [],
   "source": [
    "import numpy as np\n",
    "import pandas as pd\n",
    "import matplotlib.pyplot as plt\n",
    "import seaborn as sns"
   ]
  },
  {
   "cell_type": "code",
   "execution_count": 2,
   "metadata": {},
   "outputs": [],
   "source": [
    "train = pd.read_csv('sign_mnist_train/sign_mnist_train.csv')\n",
    "test = pd.read_csv('sign_mnist_test/sign_mnist_test.csv')"
   ]
  },
  {
   "cell_type": "code",
   "execution_count": 3,
   "metadata": {},
   "outputs": [
    {
     "data": {
      "text/plain": [
       "<bound method NDFrame.head of        label  pixel1  pixel2  pixel3  pixel4  pixel5  pixel6  pixel7  pixel8  \\\n",
       "0          3     107     118     127     134     139     143     146     150   \n",
       "1          6     155     157     156     156     156     157     156     158   \n",
       "2          2     187     188     188     187     187     186     187     188   \n",
       "3          2     211     211     212     212     211     210     211     210   \n",
       "4         13     164     167     170     172     176     179     180     184   \n",
       "5         16     161     168     172     173     178     184     189     193   \n",
       "6          8     134     134     135     135     136     137     137     138   \n",
       "7         22     114      42      74      99     104     109     117     127   \n",
       "8          3     169     174     176     180     183     185     187     188   \n",
       "9          3     189     189     189     190     190     191     190     190   \n",
       "10        18     133     135     141     146     150     155     158     159   \n",
       "11        10       0      25      38      40      41      46      50      56   \n",
       "12        16      87      91      99     116     132     142     147     153   \n",
       "13        22      80      98     121      39      53      94     100     107   \n",
       "14        20     127     127     128     130     132     133     133     133   \n",
       "15        16      86      87      89      93     104     114     122     131   \n",
       "16        17     118     120     128     135     139     145     149     150   \n",
       "17        13     223     225     226     227     228     229     230     230   \n",
       "18        13     189     193     195     197     201     206     208     213   \n",
       "19        19     173     174     176     177     176     177     177     177   \n",
       "20        18     149     150     150     150     150     151     151     151   \n",
       "21        21     131     135     139     143     145     146     149     152   \n",
       "22        16      90      98     105     110     118     124     126     127   \n",
       "23        23      85      90      97     103     119     130     138     147   \n",
       "24         3     131     138     144     146     148     150     152     153   \n",
       "25        23     153     157     163     166     170     172     175     177   \n",
       "26        24     148     153     156     157     158     158     158     158   \n",
       "27        18     138     141     143     147     149     150     150     151   \n",
       "28        22      72      80      87      92      96     101     105     109   \n",
       "29         1     146     149     150     150     151     152     152     153   \n",
       "...      ...     ...     ...     ...     ...     ...     ...     ...     ...   \n",
       "27425     21     115     122     126     130     135     138     140     143   \n",
       "27426     21     165     169     171     174     175     177     179     180   \n",
       "27427      4     178     178     179     179     178     178     177     176   \n",
       "27428     17      98     103     110     115     119     124     126     130   \n",
       "27429      5     114     113     112     113     113     115     114     116   \n",
       "27430     12     146     147     149     151     153     153     156     157   \n",
       "27431     19     234     233     233     234     234     235     236     237   \n",
       "27432      2     164     166     167     167     168     168     168     168   \n",
       "27433     22     159     162     167     169     172     175     176     177   \n",
       "27434     12     186     186     187     187     189     190     190     189   \n",
       "27435      1     181     182     183     182     183     183     183     183   \n",
       "27436     19     170     170     170     170     170     170     170     170   \n",
       "27437     16     153     158     161     162     165     170     174     177   \n",
       "27438     21     121     123     126     127     129     131     131     132   \n",
       "27439     11     124     127     133     136     139     144     148     150   \n",
       "27440      5     174     177     179     181     183     184     185     188   \n",
       "27441     18     138     140     142     146     151     156     159     163   \n",
       "27442      0     181     182     181     181     181     180     180     180   \n",
       "27443     21     190     191     194     198     198     198     198     199   \n",
       "27444     18     148     151     154     159     162     165     168     170   \n",
       "27445     14     167     169     170     171     171     172     172     172   \n",
       "27446     19     133     135     138     141     143     144     144     145   \n",
       "27447     11     170     172     175     177     179     182     185     186   \n",
       "27448     12     149     151     153     157     159     161     164     165   \n",
       "27449     20     162     168     172     176     179     183     184     185   \n",
       "27450     13     189     189     190     190     192     193     193     193   \n",
       "27451     23     151     154     157     158     160     161     163     164   \n",
       "27452     18     174     174     174     174     174     175     175     174   \n",
       "27453     17     177     181     184     185     187     189     190     191   \n",
       "27454     23     179     180     180     180     182     181     182     183   \n",
       "\n",
       "       pixel9  ...  pixel775  pixel776  pixel777  pixel778  pixel779  \\\n",
       "0         153  ...       207       207       207       207       206   \n",
       "1         158  ...        69       149       128        87        94   \n",
       "2         187  ...       202       201       200       199       198   \n",
       "3         210  ...       235       234       233       231       230   \n",
       "4         185  ...        92       105       105       108       133   \n",
       "5         196  ...        76        74        68        62        53   \n",
       "6         138  ...       109       102        91        65       138   \n",
       "7         142  ...       214       218       220       223       223   \n",
       "8         190  ...       119       118       123       120       118   \n",
       "9         190  ...        13        53       200       204       201   \n",
       "10        163  ...        99        96        96        97        96   \n",
       "11         69  ...       129        85        60        64        72   \n",
       "12        160  ...       176       192       128        22         3   \n",
       "13        110  ...       234       229       234       235       238   \n",
       "14        135  ...        49       151       154       151       150   \n",
       "15        137  ...       252       244       238       244       229   \n",
       "16        153  ...       120        79       100       148       150   \n",
       "17        230  ...       178       130        85        97       246   \n",
       "18        215  ...       183       205       162       130       192   \n",
       "19        177  ...       202       200       200       200       199   \n",
       "20        151  ...        46         4        69       183       167   \n",
       "21        153  ...       174       192       191       191       191   \n",
       "22        131  ...         0       126       231       208       213   \n",
       "23        152  ...       218       220       221       223       226   \n",
       "24        154  ...       105       185       174       175       173   \n",
       "25        178  ...       208       207       206       206       205   \n",
       "26        160  ...       184       185       184       181       181   \n",
       "27        154  ...       175       175       176       177       178   \n",
       "28        112  ...        94        69        91       166       159   \n",
       "29        153  ...       196       197       197       196       196   \n",
       "...       ...  ...       ...       ...       ...       ...       ...   \n",
       "27425     144  ...        22       179       183       179       179   \n",
       "27426     183  ...       147       223       213       213       213   \n",
       "27427     177  ...        36        37        30       160       195   \n",
       "27428     132  ...        59        69        81        80        79   \n",
       "27429     117  ...       179       179       179       176       176   \n",
       "27430     157  ...       188       191       189       188       190   \n",
       "27431     238  ...       255       255       255       255       255   \n",
       "27432     168  ...        78        72        79       221       244   \n",
       "27433     179  ...       173       152       123       143       212   \n",
       "27434     190  ...       207       206       205       205       203   \n",
       "27435     182  ...        57       186       204       179       128   \n",
       "27436     170  ...       222       216       217       216       215   \n",
       "27437     179  ...        89        87        83        78        71   \n",
       "27438     133  ...        70        52        13       127       151   \n",
       "27439     152  ...       209       208       207       205       204   \n",
       "27440     193  ...       221       222       222       221       220   \n",
       "27441     164  ...       111       100       101       104       103   \n",
       "27442     180  ...       189       188       188       186       185   \n",
       "27443     200  ...       206       255       255       255       255   \n",
       "27444     172  ...       107       203       212       213       213   \n",
       "27445     171  ...       215       215       211       208       211   \n",
       "27446     145  ...         0         0         1         4         4   \n",
       "27447     187  ...       221       228       229       228       229   \n",
       "27448     168  ...       108       165       167       163       159   \n",
       "27449     188  ...       235       234       234       233       231   \n",
       "27450     193  ...       132       165        99        77        52   \n",
       "27451     166  ...       198       198       198       198       198   \n",
       "27452     173  ...       121       196       209       208       206   \n",
       "27453     191  ...       119        56        27        58       102   \n",
       "27454     182  ...       108       132       170       194       214   \n",
       "\n",
       "       pixel780  pixel781  pixel782  pixel783  pixel784  \n",
       "0           206       206       204       203       202  \n",
       "1           163       175       103       135       149  \n",
       "2           199       198       195       194       195  \n",
       "3           226       225       222       229       163  \n",
       "4           163       157       163       164       179  \n",
       "5            55        48       238       255       255  \n",
       "6           189       179       181       181       179  \n",
       "7           225       227       227       228       228  \n",
       "8           114        94        74        61        57  \n",
       "9           201       193       175       178       156  \n",
       "10           95        94        94        93        92  \n",
       "11           70        67        65        62        64  \n",
       "12            4         4         1         2         3  \n",
       "13          241       242       244       246       246  \n",
       "14          149       147       145       144       143  \n",
       "15          157        85       122       141       128  \n",
       "16          154       160       166       170       180  \n",
       "17          248       240       225       247       255  \n",
       "18          233       115       112       200       194  \n",
       "19          197       195       195       193       190  \n",
       "20          167       167       164       162       161  \n",
       "21          191       193       191       190       191  \n",
       "22          214       215       214       214       215  \n",
       "23          228       229       230       230       230  \n",
       "24          171       170       167       165       163  \n",
       "25          204       204       203       202       200  \n",
       "26          179       175       173       171       167  \n",
       "27          178       177       177       178       178  \n",
       "28          159       158       157       156       154  \n",
       "29          195       194       194       190       187  \n",
       "...         ...       ...       ...       ...       ...  \n",
       "27425       177       176       175       172       169  \n",
       "27426       213       212       210       210       208  \n",
       "27427       188       187       187       186       185  \n",
       "27428        85       105       116       135       153  \n",
       "27429       174       173       169       141       133  \n",
       "27430       188       185       185       185       183  \n",
       "27431       255       255       255       255       234  \n",
       "27432       229       224       229       222       229  \n",
       "27433       206       209       209       209       210  \n",
       "27434       202       201       201       200       199  \n",
       "27435        69        38        27        33        45  \n",
       "27436       214       212       212       208       174  \n",
       "27437        73        68       211       238       231  \n",
       "27438       143       143       143       140       137  \n",
       "27439       204       203       202       201       199  \n",
       "27440       220       220       220       220       220  \n",
       "27441       102       102       100        98        98  \n",
       "27442       184       182       182       182       180  \n",
       "27443       255       238       197       153       131  \n",
       "27444       213       213       213       214       212  \n",
       "27445       201       167       119        75        48  \n",
       "27446         0         0         0         0         0  \n",
       "27447       229       227       228       227       227  \n",
       "27448       153       147       148       139       196  \n",
       "27449       229       228       228       227       226  \n",
       "27450       200       234       200       222       225  \n",
       "27451       196       195       195       195       194  \n",
       "27452       204       203       202       200       200  \n",
       "27453        79        47        64        87        93  \n",
       "27454       203       197       205       209       215  \n",
       "\n",
       "[27455 rows x 785 columns]>"
      ]
     },
     "execution_count": 3,
     "metadata": {},
     "output_type": "execute_result"
    }
   ],
   "source": [
    "train.head"
   ]
  },
  {
   "cell_type": "code",
   "execution_count": 4,
   "metadata": {},
   "outputs": [],
   "source": [
    "labels = train['label'].values"
   ]
  },
  {
   "cell_type": "code",
   "execution_count": 5,
   "metadata": {},
   "outputs": [
    {
     "data": {
      "text/plain": [
       "array([ 0,  1,  2,  3,  4,  5,  6,  7,  8, 10, 11, 12, 13, 14, 15, 16, 17,\n",
       "       18, 19, 20, 21, 22, 23, 24], dtype=int64)"
      ]
     },
     "execution_count": 5,
     "metadata": {},
     "output_type": "execute_result"
    }
   ],
   "source": [
    "unique_val = np.array(labels)\n",
    "np.unique(unique_val)"
   ]
  },
  {
   "cell_type": "code",
   "execution_count": 6,
   "metadata": {},
   "outputs": [
    {
     "data": {
      "text/plain": [
       "<matplotlib.axes._subplots.AxesSubplot at 0x2655f8d17b8>"
      ]
     },
     "execution_count": 6,
     "metadata": {},
     "output_type": "execute_result"
    },
    {
     "data": {
      "image/png": "[encoded data removed]",
      "text/plain": [
       "<Figure size 1296x576 with 1 Axes>"
      ]
     },
     "metadata": {
      "needs_background": "light"
     },
     "output_type": "display_data"
    }
   ],
   "source": [
    "plt.figure(figsize= (18,8))\n",
    "sns.countplot(x = labels)"
   ]
  },
  {
   "cell_type": "code",
   "execution_count": 7,
   "metadata": {},
   "outputs": [],
   "source": [
    "train.drop('label',axis = 1,inplace= True)"
   ]
  },
  {
   "cell_type": "code",
   "execution_count": 8,
   "metadata": {},
   "outputs": [],
   "source": [
    "images = train.values\n",
    "images = np.array([np.reshape(i, (28,28)) for i in images])\n",
    "images = np.array([i.flatten() for i in images])"
   ]
  },
  {
   "cell_type": "code",
   "execution_count": 9,
   "metadata": {},
   "outputs": [],
   "source": [
    "from sklearn.preprocessing import LabelBinarizer\n",
    "\n",
    "label_binrizer = LabelBinarizer()\n",
    "labels = label_binrizer.fit_transform(labels)"
   ]
  },
  {
   "cell_type": "code",
   "execution_count": 10,
   "metadata": {},
   "outputs": [
    {
     "data": {
      "text/plain": [
       "array([[0, 0, 0, ..., 0, 0, 0],\n",
       "       [0, 0, 0, ..., 0, 0, 0],\n",
       "       [0, 0, 1, ..., 0, 0, 0],\n",
       "       ...,\n",
       "       [0, 0, 0, ..., 0, 0, 0],\n",
       "       [0, 0, 0, ..., 0, 0, 0],\n",
       "       [0, 0, 0, ..., 0, 1, 0]])"
      ]
     },
     "execution_count": 10,
     "metadata": {},
     "output_type": "execute_result"
    }
   ],
   "source": [
    "labels"
   ]
  },
  {
   "cell_type": "code",
   "execution_count": 11,
   "metadata": {},
   "outputs": [
    {
     "name": "stdout",
     "output_type": "stream",
     "text": [
      "[0 0 1 0 0 0 0 0 0 0 0 0 0 0 0 0 0 0 0 0 0 0 0 0]\n"
     ]
    },
    {
     "data": {
      "text/plain": [
       "<matplotlib.image.AxesImage at 0x2655fead908>"
      ]
     },
     "execution_count": 11,
     "metadata": {},
     "output_type": "execute_result"
    },
    {
     "data": {
      "image/png": "[encoded data removed]",
      "text/plain": [
       "<Figure size 432x288 with 1 Axes>"
      ]
     },
     "metadata": {
      "needs_background": "light"
     },
     "output_type": "display_data"
    }
   ],
   "source": [
    "index = 2\n",
    "print(labels[index])\n",
    "plt.imshow(images[index].reshape(28,28))"
   ]
  },
  {
   "cell_type": "code",
   "execution_count": 12,
   "metadata": {},
   "outputs": [],
   "source": [
    "import cv2\n",
    "import numpy as np\n",
    "\n",
    "\n",
    "for i in range(0,10):\n",
    "    rand = np.random.randint(0, len(images))\n",
    "    input_im = images[rand]\n",
    "\n",
    "    sample = input_im.reshape(28,28).astype(np.uint8)\n",
    "    sample = cv2.resize(sample, None, fx=10,fy=10,interpolation = cv2.INTER_CUBIC)\n",
    "    cv2.imshow(\"sample image\", sample)\n",
    "    cv2.waitKey(0)\n",
    "\n",
    "cv2.destroyAllWindows()\n"
   ]
  },
  {
   "cell_type": "code",
   "execution_count": 13,
   "metadata": {},
   "outputs": [],
   "source": [
    "from sklearn.model_selection import train_test_split\n",
    "\n",
    "x_train, x_test, y_train, y_test = train_test_split(images, labels, test_size = 0.3, random_state = 101)"
   ]
  },
  {
   "cell_type": "code",
   "execution_count": 14,
   "metadata": {},
   "outputs": [],
   "source": [
    "from tensorflow.keras.models import Sequential\n",
    "from tensorflow.keras.layers import Dense, Conv2D, MaxPooling2D, Flatten, Dropout\n",
    "\n",
    "batch_size = 128\n",
    "num_classes = 24\n",
    "epochs = 10"
   ]
  },
  {
   "cell_type": "code",
   "execution_count": 15,
   "metadata": {},
   "outputs": [],
   "source": [
    "x_train = x_train / 255\n",
    "x_test = x_test / 255"
   ]
  },
  {
   "cell_type": "code",
   "execution_count": 16,
   "metadata": {},
   "outputs": [
    {
     "data": {
      "text/plain": [
       "<matplotlib.image.AxesImage at 0x265709340f0>"
      ]
     },
     "execution_count": 16,
     "metadata": {},
     "output_type": "execute_result"
    },
    {
     "data": {
      "image/png": "[encoded data removed]",
      "text/plain": [
       "<Figure size 432x288 with 1 Axes>"
      ]
     },
     "metadata": {
      "needs_background": "light"
     },
     "output_type": "display_data"
    }
   ],
   "source": [
    "x_train = x_train.reshape(x_train.shape[0], 28, 28, 1)\n",
    "x_test = x_test.reshape(x_test.shape[0], 28, 28, 1)\n",
    "\n",
    "plt.imshow(x_train[0].reshape(28, 28))"
   ]
  },
  {
   "cell_type": "code",
   "execution_count": 17,
   "metadata": {},
   "outputs": [],
   "source": [
    "from tensorflow.keras.layers import Conv2D, MaxPooling2D\n",
    "from tensorflow.keras import backend as K\n",
    "from tensorflow.keras.optimizers import Adam\n",
    "\n",
    "model = Sequential()\n",
    "model.add(Conv2D(64, kernel_size= (3,3), activation= 'relu', input_shape = (28, 28, 1) ))\n",
    "model.add(MaxPooling2D(pool_size= (2, 2)))\n",
    "\n",
    "model.add(Conv2D(64, kernel_size= (3,3), activation= 'relu'))\n",
    "model.add(MaxPooling2D(pool_size= (2, 2)))\n",
    "\n",
    "model.add(Conv2D(64, kernel_size= (3,3), activation= 'relu'))\n",
    "model.add(MaxPooling2D(pool_size= (2, 2)))\n",
    "\n",
    "model.add(Flatten())\n",
    "model.add(Dense(128, activation= 'relu'))\n",
    "model.add(Dropout(0.20))\n",
    "\n",
    "model.add(Dense(num_classes, activation= 'softmax'))"
   ]
  },
  {
   "cell_type": "code",
   "execution_count": 18,
   "metadata": {},
   "outputs": [],
   "source": [
    "model.compile(loss = 'categorical_crossentropy', optimizer= Adam(), metrics= ['accuracy'])"
   ]
  },
  {
   "cell_type": "code",
   "execution_count": 19,
   "metadata": {},
   "outputs": [
    {
     "name": "stdout",
     "output_type": "stream",
     "text": [
      "Model: \"sequential\"\n",
      "_________________________________________________________________\n",
      "Layer (type)                 Output Shape              Param #   \n",
      "=================================================================\n",
      "conv2d (Conv2D)              (None, 26, 26, 64)        640       \n",
      "_________________________________________________________________\n",
      "max_pooling2d (MaxPooling2D) (None, 13, 13, 64)        0         \n",
      "_________________________________________________________________\n",
      "conv2d_1 (Conv2D)            (None, 11, 11, 64)        36928     \n",
      "_________________________________________________________________\n",
      "max_pooling2d_1 (MaxPooling2 (None, 5, 5, 64)          0         \n",
      "_________________________________________________________________\n",
      "conv2d_2 (Conv2D)            (None, 3, 3, 64)          36928     \n",
      "_________________________________________________________________\n",
      "max_pooling2d_2 (MaxPooling2 (None, 1, 1, 64)          0         \n",
      "_________________________________________________________________\n",
      "flatten (Flatten)            (None, 64)                0         \n",
      "_________________________________________________________________\n",
      "dense (Dense)                (None, 128)               8320      \n",
      "_________________________________________________________________\n",
      "dropout (Dropout)            (None, 128)               0         \n",
      "_________________________________________________________________\n",
      "dense_1 (Dense)              (None, 24)                3096      \n",
      "=================================================================\n",
      "Total params: 85,912\n",
      "Trainable params: 85,912\n",
      "Non-trainable params: 0\n",
      "_________________________________________________________________\n",
      "None\n"
     ]
    }
   ],
   "source": [
    "print(model.summary())"
   ]
  },
  {
   "cell_type": "code",
   "execution_count": 20,
   "metadata": {},
   "outputs": [
    {
     "name": "stdout",
     "output_type": "stream",
     "text": [
      "Epoch 1/10\n",
      "151/151 [==============================] - 27s 172ms/step - loss: 2.7014 - accuracy: 0.1819 - val_loss: 1.8689 - val_accuracy: 0.4214\n",
      "Epoch 2/10\n",
      "151/151 [==============================] - 25s 163ms/step - loss: 1.4248 - accuracy: 0.5379 - val_loss: 0.9762 - val_accuracy: 0.6831\n",
      "Epoch 3/10\n",
      "151/151 [==============================] - 29s 191ms/step - loss: 0.8557 - accuracy: 0.7137 - val_loss: 0.5814 - val_accuracy: 0.8198\n",
      "Epoch 4/10\n",
      "151/151 [==============================] - 25s 163ms/step - loss: 0.5845 - accuracy: 0.8026 - val_loss: 0.3979 - val_accuracy: 0.8819\n",
      "Epoch 5/10\n",
      "151/151 [==============================] - 22s 146ms/step - loss: 0.4291 - accuracy: 0.8577 - val_loss: 0.3317 - val_accuracy: 0.8929\n",
      "Epoch 6/10\n",
      "151/151 [==============================] - 22s 149ms/step - loss: 0.3292 - accuracy: 0.8921 - val_loss: 0.2534 - val_accuracy: 0.9160\n",
      "Epoch 7/10\n",
      "151/151 [==============================] - 23s 150ms/step - loss: 0.2612 - accuracy: 0.9117 - val_loss: 0.1592 - val_accuracy: 0.9561\n",
      "Epoch 8/10\n",
      "151/151 [==============================] - 23s 156ms/step - loss: 0.1894 - accuracy: 0.9387 - val_loss: 0.1225 - val_accuracy: 0.9656\n",
      "Epoch 9/10\n",
      "151/151 [==============================] - 23s 150ms/step - loss: 0.1573 - accuracy: 0.9475 - val_loss: 0.0816 - val_accuracy: 0.9803\n",
      "Epoch 10/10\n",
      "151/151 [==============================] - 23s 152ms/step - loss: 0.1164 - accuracy: 0.9646 - val_loss: 0.0748 - val_accuracy: 0.9785\n"
     ]
    }
   ],
   "source": [
    "history = model.fit(x_train, y_train, validation_data= (x_test, y_test), epochs = epochs, batch_size = batch_size)"
   ]
  },
  {
   "cell_type": "code",
   "execution_count": 21,
   "metadata": {},
   "outputs": [
    {
     "name": "stdout",
     "output_type": "stream",
     "text": [
      "Model saved\n"
     ]
    }
   ],
   "source": [
    "model.save(\"sign_mnist_cnn_50_Epochs.h5\")\n",
    "print(\"Model saved\")"
   ]
  },
  {
   "cell_type": "code",
   "execution_count": 22,
   "metadata": {},
   "outputs": [
    {
     "data": {
      "text/plain": [
       "<matplotlib.legend.Legend at 0x2657716ff28>"
      ]
     },
     "execution_count": 22,
     "metadata": {},
     "output_type": "execute_result"
    },
    {
     "data": {
      "image/png": "[encoded data removed]",
      "text/plain": [
       "<Figure size 432x288 with 1 Axes>"
      ]
     },
     "metadata": {
      "needs_background": "light"
     },
     "output_type": "display_data"
    }
   ],
   "source": [
    "plt.plot(history.history['accuracy'])\n",
    "plt.plot(history.history['val_accuracy'])\n",
    "plt.title(\"Accuracy\")\n",
    "plt.xlabel('epoch')\n",
    "plt.ylabel('accuracy')\n",
    "plt.legend(['train','test'])"
   ]
  },
  {
   "cell_type": "code",
   "execution_count": 23,
   "metadata": {},
   "outputs": [],
   "source": [
    "test_labels = test['label']\n",
    "test.drop('label', axis = 1, inplace= True)\n",
    "\n",
    "test_images = test.values\n",
    "test_images = np.array([np.reshape(i, (28,28)) for i in test_images])\n",
    "test_images = np.array([i.flatten() for i in test_images])\n",
    "\n",
    "test_labels = label_binrizer.fit_transform(test_labels)\n",
    "\n",
    "test_images = test_images.reshape(test_images.shape[0], 28, 28, 1)\n",
    "\n",
    "test_images.shape\n",
    "\n",
    "y_pred = model.predict(test_images)"
   ]
  },
  {
   "cell_type": "code",
   "execution_count": 24,
   "metadata": {},
   "outputs": [
    {
     "data": {
      "text/plain": [
       "0.8099553820412716"
      ]
     },
     "execution_count": 24,
     "metadata": {},
     "output_type": "execute_result"
    }
   ],
   "source": [
    "from sklearn.metrics import accuracy_score\n",
    "\n",
    "accuracy_score(test_labels, y_pred.round())"
   ]
  },
  {
   "cell_type": "code",
   "execution_count": 25,
   "metadata": {},
   "outputs": [],
   "source": [
    "def getLetter(result):\n",
    "  classLabels = { 0: 'A', 1: 'B', 2: 'C', 3: 'D', 4: 'E', 5: 'F', 6: 'G', 7: 'H', 8: 'I', 9: 'K', 10: 'L', 11: 'M', 12: 'N',\n",
    "                  13: 'O', 14: 'P', 15: 'Q', 16: 'R', 17: 'S', 18: 'T', 19: 'U', 20: 'V', 21: 'W', 22: 'X', 23: 'Y'}\n",
    "  try:\n",
    "    res = int(result)\n",
    "    return classLabels[res]\n",
    "  except:\n",
    "    return \"Error\"    \n",
    "  "
   ]
  },
  {
   "cell_type": "code",
   "execution_count": 26,
   "metadata": {},
   "outputs": [
    {
     "ename": "KeyboardInterrupt",
     "evalue": "",
     "output_type": "error",
     "traceback": [
      "\u001b[1;31m---------------------------------------------------------------------------\u001b[0m",
      "\u001b[1;31mKeyboardInterrupt\u001b[0m                         Traceback (most recent call last)",
      "\u001b[1;32m<ipython-input-26-fa8c2d8a8a7a>\u001b[0m in \u001b[0;36m<module>\u001b[1;34m\u001b[0m\n\u001b[0;32m      3\u001b[0m \u001b[1;32mwhile\u001b[0m \u001b[1;32mTrue\u001b[0m\u001b[1;33m:\u001b[0m\u001b[1;33m\u001b[0m\u001b[1;33m\u001b[0m\u001b[0m\n\u001b[0;32m      4\u001b[0m \u001b[1;33m\u001b[0m\u001b[0m\n\u001b[1;32m----> 5\u001b[1;33m           \u001b[0mret\u001b[0m\u001b[1;33m,\u001b[0m \u001b[0mframe\u001b[0m \u001b[1;33m=\u001b[0m \u001b[0mcap\u001b[0m\u001b[1;33m.\u001b[0m\u001b[0mread\u001b[0m\u001b[1;33m(\u001b[0m\u001b[1;33m)\u001b[0m\u001b[1;33m\u001b[0m\u001b[1;33m\u001b[0m\u001b[0m\n\u001b[0m\u001b[0;32m      6\u001b[0m \u001b[1;33m\u001b[0m\u001b[0m\n\u001b[0;32m      7\u001b[0m           \u001b[0mframe\u001b[0m \u001b[1;33m=\u001b[0m \u001b[0mcv2\u001b[0m\u001b[1;33m.\u001b[0m\u001b[0mflip\u001b[0m\u001b[1;33m(\u001b[0m\u001b[0mframe\u001b[0m\u001b[1;33m,\u001b[0m \u001b[1;36m1\u001b[0m\u001b[1;33m)\u001b[0m\u001b[1;33m\u001b[0m\u001b[1;33m\u001b[0m\u001b[0m\n",
      "\u001b[1;31mKeyboardInterrupt\u001b[0m: "
     ]
    }
   ],
   "source": [
    "\n",
    "cap = cv2.VideoCapture(0)\n",
    "\n",
    "while True:\n",
    "\n",
    "          ret, frame = cap.read()\n",
    "     \n",
    "          frame = cv2.flip(frame, 1)\n",
    "\n",
    "          roi = frame[100:400,320:620]\n",
    "          cv2.imshow('roi',roi)\n",
    "          roi = cv2.cvtColor(roi, cv2.COLOR_BGR2GRAY)\n",
    "          roi = cv2.resize(roi, (28,28), interpolation = cv2.INTER_AREA)\n",
    "\n",
    "          cv2.imshow('roi scaled and gray',roi)\n",
    "          copy = frame.copy()\n",
    "          cv2.rectangle(copy, (320,100), (620,400), (255, 0, 0), 5)\n",
    "\n",
    "          roi = roi.reshape(1,28,28,1)\n",
    "\n",
    "#           result = str(model.predict_classes(roi, 1, verbose = 0)[0])\n",
    "          predict_x=model.predict(roi) \n",
    "          result=np.argmax(predict_x,axis=1)\n",
    "          cv2.putText(copy, getLetter(result), (300, 100), cv2.FONT_HERSHEY_COMPLEX, 2, (0, 255, 0), 2)\n",
    "          cv2.imshow('frame', copy)\n",
    "\n",
    "          if cv2.waitKey(1) == 13: #13 as in enter key\n",
    "              break\n",
    "\n",
    "cap.release()\n",
    "cv2.destroyAllWindows()"
   ]
  },
  {
   "cell_type": "code",
   "execution_count": 26,
   "metadata": {},
   "outputs": [],
   "source": [
    "def makedir(directory):\n",
    "    if not os.path.exists(directory):\n",
    "        os.makedirs(directory)\n",
    "        return None\n",
    "    else:\n",
    "        pass\n",
    "    "
   ]
  },
  {
   "cell_type": "code",
   "execution_count": 28,
   "metadata": {},
   "outputs": [],
   "source": [
    "import cv2\n",
    "import os\n",
    "cap = cv2.VideoCapture(0)\n",
    "\n",
    "i=0\n",
    "image_count = 0\n",
    "\n",
    "while i < 7:\n",
    "    \n",
    "    ret, frame = cap.read()\n",
    "    frame = cv2.flip(frame, 1)\n",
    "\n",
    "    roi = frame[100:400,320:620]\n",
    "    cv2.imshow('roi',roi)\n",
    "    roi = cv2.cvtColor(roi, cv2.COLOR_BGR2GRAY)\n",
    "    roi = cv2.resize(roi, (28,28), interpolation = cv2.INTER_AREA)\n",
    "\n",
    "    cv2.imshow('roi scaled and gray',roi)\n",
    "    copy = frame.copy()\n",
    "    cv2.rectangle(copy, (320,100), (620,400), (255, 0, 0), 5)\n",
    "    \n",
    "    if i == 0:\n",
    "        image_count = 0\n",
    "        cv2.putText(copy,\"Hit enter to record when ready\", (100, 100), cv2.FONT_HERSHEY_COMPLEX, 1, (0, 255, 0), 1)\n",
    "    if i == 1:\n",
    "        image_count += 1\n",
    "        cv2.putText(copy,\"Recording 1st gesture - Train\", (100, 100), cv2.FONT_HERSHEY_COMPLEX, 1, (0, 255, 0), 1)\n",
    "        cv2.putText(copy, str(image_count), (400, 400), cv2.FONT_HERSHEY_COMPLEX, 1, (0, 255, 0), 1)\n",
    "        gesture_one = './handgestures/train/0'\n",
    "        makedir(gesture_one)\n",
    "        cv2.imwrite(gesture_one + str(image_count) + \".jpg\", roi)\n",
    "    if i == 2:\n",
    "        image_count += 1\n",
    "        cv2.putText(copy,\"Recording 1st gesture - Test\", (100, 100), cv2.FONT_HERSHEY_COMPLEX, 1, (0, 255, 0), 1)\n",
    "        cv2.putText(copy, str(image_count), (400, 400), cv2.FONT_HERSHEY_COMPLEX, 1, (0, 255, 0), 1)\n",
    "        gesture_one = './handgestures/test/0'\n",
    "        makedir(gesture_one)\n",
    "        cv2.imwrite(gesture_one + str(image_count) + \".jpg\", roi)\n",
    "    if i == 3:\n",
    "        cv2.putText(copy,\"Hit enter to record when ready for 2nd gesture\", (100, 100), cv2.FONT_HERSHEY_COMPLEX, 1, (0, 255, 0), 1)\n",
    "    if i == 4:\n",
    "        image_count += 1\n",
    "        cv2.putText(copy,\"Recording 2nd gesture - Train\", (100, 100), cv2.FONT_HERSHEY_COMPLEX, 1, (0, 255, 0), 1)\n",
    "        cv2.putText(copy, str(image_count), (400, 400), cv2.FONT_HERSHEY_COMPLEX, 1, (0, 255, 0), 1)\n",
    "        gesture_two = './handgestures/train/1'\n",
    "        makedir(gesture_two)\n",
    "        cv2.imwrite(gesture_two + str(image_count) + \".jpg\", roi)\n",
    "    if i == 5:\n",
    "        image_count += 1\n",
    "        cv2.putText(copy,\"Recording 2nd gesture - Test\", (100, 100), cv2.FONT_HERSHEY_COMPLEX, 1, (0, 255, 0), 1)\n",
    "        cv2.putText(copy, str(image_count), (400, 400), cv2.FONT_HERSHEY_COMPLEX, 1, (0, 255, 0), 1)\n",
    "        gesture_two = './handgestures/test/1'\n",
    "        makedir(gesture_two)\n",
    "        cv2.imwrite(gesture_two + str(image_count) + \".jpg\", roi)\n",
    "    if i == 6:\n",
    "        cv2.putText(copy,\"Hit enter to exit\", (100, 100), cv2.FONT_HERSHEY_COMPLEX, 1, (0, 255, 0), 1)\n",
    "    cv2.imshow('frame', copy)\n",
    "    \n",
    "    if cv2.waitKey(1) == 13:\n",
    "        image_count = 0\n",
    "        i += 1\n",
    "        \n",
    "cap.release()\n",
    "cv2.destroyAllWindows()\n",
    "        "
   ]
  },
  {
   "cell_type": "code",
   "execution_count": 29,
   "metadata": {},
   "outputs": [
    {
     "name": "stdout",
     "output_type": "stream",
     "text": [
      "Requirement already satisfied: tensorflow in c:\\users\\admin\\appdata\\roaming\\python\\python37\\site-packages (2.6.0)\n",
      "Collecting numpy~=1.19.2 (from tensorflow)\n",
      "  Using cached https://files.pythonhosted.org/packages/ff/18/60ac053857fb924b0324c81200b59c00317ebaa3c14b7478266b50ffed19/numpy-1.19.5-cp37-cp37m-win_amd64.whl\n",
      "Requirement already satisfied: gast==0.4.0 in c:\\programdata\\anaconda3\\lib\\site-packages (from tensorflow) (0.4.0)\n",
      "Requirement already satisfied: wheel~=0.35 in c:\\programdata\\anaconda3\\lib\\site-packages (from tensorflow) (0.37.0)\n",
      "Requirement already satisfied: flatbuffers~=1.12.0 in c:\\programdata\\anaconda3\\lib\\site-packages (from tensorflow) (1.12)\n",
      "Requirement already satisfied: keras-preprocessing~=1.1.2 in c:\\programdata\\anaconda3\\lib\\site-packages (from tensorflow) (1.1.2)\n",
      "Requirement already satisfied: absl-py~=0.10 in c:\\programdata\\anaconda3\\lib\\site-packages (from tensorflow) (0.13.0)\n",
      "Requirement already satisfied: wrapt~=1.12.1 in c:\\programdata\\anaconda3\\lib\\site-packages (from tensorflow) (1.12.1)\n",
      "Requirement already satisfied: grpcio<2.0,>=1.37.0 in c:\\programdata\\anaconda3\\lib\\site-packages (from tensorflow) (1.39.0)\n",
      "Requirement already satisfied: keras~=2.6 in c:\\programdata\\anaconda3\\lib\\site-packages (from tensorflow) (2.6.0)\n",
      "Requirement already satisfied: protobuf>=3.9.2 in c:\\programdata\\anaconda3\\lib\\site-packages (from tensorflow) (3.17.3)\n",
      "Requirement already satisfied: astunparse~=1.6.3 in c:\\programdata\\anaconda3\\lib\\site-packages (from tensorflow) (1.6.3)\n",
      "Requirement already satisfied: h5py~=3.1.0 in c:\\programdata\\anaconda3\\lib\\site-packages (from tensorflow) (3.1.0)\n",
      "Requirement already satisfied: google-pasta~=0.2 in c:\\programdata\\anaconda3\\lib\\site-packages (from tensorflow) (0.2.0)\n",
      "Requirement already satisfied: clang~=5.0 in c:\\programdata\\anaconda3\\lib\\site-packages (from tensorflow) (5.0)\n",
      "Collecting six~=1.15.0 (from tensorflow)\n",
      "  Using cached https://files.pythonhosted.org/packages/ee/ff/48bde5c0f013094d729fe4b0316ba2a24774b3ff1c52d924a8a4cb04078a/six-1.15.0-py2.py3-none-any.whl\n",
      "Requirement already satisfied: tensorflow-estimator~=2.6 in c:\\programdata\\anaconda3\\lib\\site-packages (from tensorflow) (2.6.0)\n",
      "Requirement already satisfied: tensorboard~=2.6 in c:\\programdata\\anaconda3\\lib\\site-packages (from tensorflow) (2.6.0)\n",
      "Requirement already satisfied: typing-extensions~=3.7.4 in c:\\programdata\\anaconda3\\lib\\site-packages (from tensorflow) (3.7.4.3)\n",
      "Requirement already satisfied: termcolor~=1.1.0 in c:\\programdata\\anaconda3\\lib\\site-packages (from tensorflow) (1.1.0)\n",
      "Requirement already satisfied: opt-einsum~=3.3.0 in c:\\programdata\\anaconda3\\lib\\site-packages (from tensorflow) (3.3.0)\n",
      "Requirement already satisfied: cached-property; python_version < \"3.8\" in c:\\programdata\\anaconda3\\lib\\site-packages (from h5py~=3.1.0->tensorflow) (1.5.2)\n",
      "Requirement already satisfied: tensorboard-plugin-wit>=1.6.0 in c:\\programdata\\anaconda3\\lib\\site-packages (from tensorboard~=2.6->tensorflow) (1.8.0)\n",
      "Requirement already satisfied: requests<3,>=2.21.0 in c:\\programdata\\anaconda3\\lib\\site-packages (from tensorboard~=2.6->tensorflow) (2.26.0)\n",
      "Requirement already satisfied: werkzeug>=0.11.15 in c:\\programdata\\anaconda3\\lib\\site-packages (from tensorboard~=2.6->tensorflow) (0.15.4)\n",
      "Requirement already satisfied: google-auth-oauthlib<0.5,>=0.4.1 in c:\\programdata\\anaconda3\\lib\\site-packages (from tensorboard~=2.6->tensorflow) (0.4.5)\n",
      "Requirement already satisfied: setuptools>=41.0.0 in c:\\programdata\\anaconda3\\lib\\site-packages (from tensorboard~=2.6->tensorflow) (41.0.1)\n",
      "Requirement already satisfied: tensorboard-data-server<0.7.0,>=0.6.0 in c:\\programdata\\anaconda3\\lib\\site-packages (from tensorboard~=2.6->tensorflow) (0.6.1)\n",
      "Requirement already satisfied: markdown>=2.6.8 in c:\\programdata\\anaconda3\\lib\\site-packages (from tensorboard~=2.6->tensorflow) (3.3.4)\n",
      "Requirement already satisfied: google-auth<2,>=1.6.3 in c:\\programdata\\anaconda3\\lib\\site-packages (from tensorboard~=2.6->tensorflow) (1.34.0)\n",
      "Requirement already satisfied: idna<4,>=2.5; python_version >= \"3\" in c:\\programdata\\anaconda3\\lib\\site-packages (from requests<3,>=2.21.0->tensorboard~=2.6->tensorflow) (2.8)\n",
      "Requirement already satisfied: certifi>=2017.4.17 in c:\\programdata\\anaconda3\\lib\\site-packages (from requests<3,>=2.21.0->tensorboard~=2.6->tensorflow) (2019.6.16)\n",
      "Requirement already satisfied: urllib3<1.27,>=1.21.1 in c:\\programdata\\anaconda3\\lib\\site-packages (from requests<3,>=2.21.0->tensorboard~=2.6->tensorflow) (1.24.2)\n",
      "Requirement already satisfied: charset-normalizer~=2.0.0; python_version >= \"3\" in c:\\programdata\\anaconda3\\lib\\site-packages (from requests<3,>=2.21.0->tensorboard~=2.6->tensorflow) (2.0.4)\n",
      "Requirement already satisfied: requests-oauthlib>=0.7.0 in c:\\programdata\\anaconda3\\lib\\site-packages (from google-auth-oauthlib<0.5,>=0.4.1->tensorboard~=2.6->tensorflow) (1.3.0)\n",
      "Requirement already satisfied: importlib-metadata; python_version < \"3.8\" in c:\\programdata\\anaconda3\\lib\\site-packages (from markdown>=2.6.8->tensorboard~=2.6->tensorflow) (0.17)\n",
      "Requirement already satisfied: rsa<5,>=3.1.4; python_version >= \"3.6\" in c:\\programdata\\anaconda3\\lib\\site-packages (from google-auth<2,>=1.6.3->tensorboard~=2.6->tensorflow) (4.7.2)\n",
      "Requirement already satisfied: pyasn1-modules>=0.2.1 in c:\\programdata\\anaconda3\\lib\\site-packages (from google-auth<2,>=1.6.3->tensorboard~=2.6->tensorflow) (0.2.8)\n",
      "Requirement already satisfied: cachetools<5.0,>=2.0.0 in c:\\programdata\\anaconda3\\lib\\site-packages (from google-auth<2,>=1.6.3->tensorboard~=2.6->tensorflow) (4.2.2)\n",
      "Requirement already satisfied: oauthlib>=3.0.0 in c:\\programdata\\anaconda3\\lib\\site-packages (from requests-oauthlib>=0.7.0->google-auth-oauthlib<0.5,>=0.4.1->tensorboard~=2.6->tensorflow) (3.1.1)\n",
      "Requirement already satisfied: zipp>=0.5 in c:\\programdata\\anaconda3\\lib\\site-packages (from importlib-metadata; python_version < \"3.8\"->markdown>=2.6.8->tensorboard~=2.6->tensorflow) (3.5.0)\n",
      "Requirement already satisfied: pyasn1>=0.1.3 in c:\\programdata\\anaconda3\\lib\\site-packages (from rsa<5,>=3.1.4; python_version >= \"3.6\"->google-auth<2,>=1.6.3->tensorboard~=2.6->tensorflow) (0.4.8)\n",
      "Installing collected packages: numpy, six\n",
      "Successfully installed numpy-1.19.5 six-1.15.0\n",
      "Note: you may need to restart the kernel to use updated packages.\n"
     ]
    },
    {
     "name": "stderr",
     "output_type": "stream",
     "text": [
      "ERROR: astroid 2.2.5 requires typed-ast>=1.3.0; implementation_name == \"cpython\", which is not installed.\n",
      "ERROR: lvis 0.5.3 has requirement matplotlib>=3.1.1, but you'll have matplotlib 3.1.0 which is incompatible.\n",
      "ERROR: apache-beam 2.31.0 has requirement avro-python3!=1.9.2,<1.10.0,>=1.8.1, but you'll have avro-python3 1.10.2 which is incompatible.\n",
      "  WARNING: The script f2py.exe is installed in 'C:\\Users\\admin\\AppData\\Roaming\\Python\\Python37\\Scripts' which is not on PATH.\n",
      "  Consider adding this directory to PATH or, if you prefer to suppress this warning, use --no-warn-script-location.\n"
     ]
    }
   ],
   "source": [
    "pip install tensorflow --user"
   ]
  },
  {
   "cell_type": "code",
   "execution_count": 31,
   "metadata": {},
   "outputs": [
    {
     "name": "stdout",
     "output_type": "stream",
     "text": [
      "2.6.0\n"
     ]
    }
   ],
   "source": [
    "import tensorflow as tf\n",
    "print(tf.__version__)"
   ]
  },
  {
   "cell_type": "code",
   "execution_count": 27,
   "metadata": {},
   "outputs": [
    {
     "ename": "ModuleNotFoundError",
     "evalue": "No module named 'tensorlfow'",
     "output_type": "error",
     "traceback": [
      "\u001b[1;31m---------------------------------------------------------------------------\u001b[0m",
      "\u001b[1;31mModuleNotFoundError\u001b[0m                       Traceback (most recent call last)",
      "\u001b[1;32m<ipython-input-27-03ac76b0fb34>\u001b[0m in \u001b[0;36m<module>\u001b[1;34m\u001b[0m\n\u001b[0;32m      1\u001b[0m \u001b[1;32mimport\u001b[0m \u001b[0mtensorflow\u001b[0m\u001b[1;33m\u001b[0m\u001b[1;33m\u001b[0m\u001b[0m\n\u001b[0;32m      2\u001b[0m \u001b[1;32mimport\u001b[0m \u001b[0mtensorflow\u001b[0m\u001b[1;33m.\u001b[0m\u001b[0mkeras\u001b[0m\u001b[1;33m\u001b[0m\u001b[1;33m\u001b[0m\u001b[0m\n\u001b[1;32m----> 3\u001b[1;33m \u001b[1;32mfrom\u001b[0m \u001b[0mtensorlfow\u001b[0m\u001b[1;33m.\u001b[0m\u001b[0mkeras\u001b[0m\u001b[1;33m.\u001b[0m\u001b[0mpreprocessing\u001b[0m\u001b[1;33m.\u001b[0m\u001b[0mimage\u001b[0m \u001b[1;32mimport\u001b[0m \u001b[0mImageDataGenerator\u001b[0m\u001b[1;33m\u001b[0m\u001b[1;33m\u001b[0m\u001b[0m\n\u001b[0m\u001b[0;32m      4\u001b[0m \u001b[1;32mfrom\u001b[0m \u001b[0mtensorflow\u001b[0m\u001b[1;33m.\u001b[0m\u001b[0mkeras\u001b[0m\u001b[1;33m.\u001b[0m\u001b[0mmodels\u001b[0m \u001b[1;32mimport\u001b[0m \u001b[0mSequential\u001b[0m\u001b[1;33m\u001b[0m\u001b[1;33m\u001b[0m\u001b[0m\n\u001b[0;32m      5\u001b[0m \u001b[1;32mfrom\u001b[0m \u001b[0mtensorflow\u001b[0m\u001b[1;33m.\u001b[0m\u001b[0mkeras\u001b[0m\u001b[1;33m.\u001b[0m\u001b[0mlayers\u001b[0m \u001b[1;32mimport\u001b[0m \u001b[0mDense\u001b[0m\u001b[1;33m,\u001b[0m \u001b[0mDropout\u001b[0m\u001b[1;33m,\u001b[0m \u001b[0mActivation\u001b[0m\u001b[1;33m,\u001b[0m \u001b[0mFlatten\u001b[0m\u001b[1;33m,\u001b[0m \u001b[0mBatchNormalization\u001b[0m\u001b[1;33m\u001b[0m\u001b[1;33m\u001b[0m\u001b[0m\n",
      "\u001b[1;31mModuleNotFoundError\u001b[0m: No module named 'tensorlfow'"
     ]
    }
   ],
   "source": [
    "import tensorflow\n",
    "import tensorflow.keras\n",
    "from tensorlfow.keras.preprocessing.image import ImageDataGenerator\n",
    "from tensorflow.keras.models import Sequential\n",
    "from tensorflow.keras.layers import Dense, Dropout, Activation, Flatten, BatchNormalization\n",
    "from tensorflow.keras.layers import Conv2D, MaxPooling2D\n",
    "\n",
    "import os\n",
    "\n",
    "num_classes = 2\n",
    "img_rows, img_cols = 28,28\n",
    "batch_size = 32\n",
    "\n",
    "train_data_dir = './handgestures/train'\n",
    "validation_data_dir = './handgestures/test'\n",
    "\n",
    "train_datagen = ImageDataGenerator(\n",
    "        rescale = 1./255,\n",
    "        rotation_range = 30,\n",
    "        width_shift_range = 0.3,\n",
    "        height_shift_range = 0.3,\n",
    "        horizontal_flip = True,\n",
    "        fill_mode = 'nearest')\n",
    "\n",
    "validation_datagen = ImageDataGenerator(rescale = 1./255)\n",
    "\n",
    "train_generator = train_datagen.flow_from_directory(\n",
    "        train_data_dir,\n",
    "        target_size = (img_rows, img_cols),\n",
    "        batch_size = batch_size,\n",
    "        color_mode = 'grayscale',\n",
    "        class_mode = 'binary')\n",
    "\n",
    "validation_generator = validation_datagen.flow_from_directory(\n",
    "        validation_data_dir,\n",
    "        target_size = (img_rows, img_cols),\n",
    "        batch_size = batch_size,\n",
    "        color_mode = 'grayscale',\n",
    "        class_mode = 'binary')"
   ]
  },
  {
   "cell_type": "code",
   "execution_count": null,
   "metadata": {},
   "outputs": [],
   "source": [
    "model = Sequential()\n",
    "model.add(Conv2D(64, kernel_size= (3,3), activation= 'relu', input_shape = (28, 28, 1) ))\n",
    "model.add(MaxPooling2D(pool_size= (2, 2)))\n",
    "\n",
    "model.add(Conv2D(64, kernel_size= (3,3), activation= 'relu'))\n",
    "model.add(MaxPooling2D(pool_size= (2, 2)))\n",
    "\n",
    "model.add(Conv2D(64, kernel_size= (3,3), activation= 'relu'))\n",
    "model.add(MaxPooling2D(pool_size= (2, 2)))\n",
    "\n",
    "model.add(Flatten())\n",
    "model.add(Dense(128, activation= 'relu'))\n",
    "model.add(Dropout(0.20))\n",
    "\n",
    "model.add(Dense(1, activation= 'sigmoid'))\n",
    "\n",
    "print(model.summary())"
   ]
  },
  {
   "cell_type": "code",
   "execution_count": null,
   "metadata": {},
   "outputs": [],
   "source": [
    "model.compile(loss = 'binary_crossentropy',\n",
    "                optimizer = 'rmsprop',\n",
    "                 metrics = ['accuracy'])\n",
    "\n",
    "nb_train_samples = 841 #results from grayscale binary cell to be used here in train and validation\n",
    "nb_validation_samples = 490\n",
    "epochs = 10\n",
    "\n",
    "history = model.fit(\n",
    "    train_generator,\n",
    "    steps_per_epoch = nb_train_samples // batch_size,\n",
    "    epochs = epochs,\n",
    "    validation_data = validation_generator,\n",
    "    validation_steps = nb_validation_samples // batch_size)"
   ]
  },
  {
   "cell_type": "code",
   "execution_count": null,
   "metadata": {},
   "outputs": [],
   "source": [
    "model.save(\"my_gestures_cnn.h5\")"
   ]
  },
  {
   "cell_type": "code",
   "execution_count": null,
   "metadata": {},
   "outputs": [],
   "source": [
    "from tensorflow.keras.models import load_model\n",
    "\n",
    "classifier = load_model(\"my_gestures_cnn.h5\")"
   ]
  }
 ],
 "metadata": {
  "kernelspec": {
   "display_name": "Python 3",
   "language": "python",
   "name": "python3"
  },
  "language_info": {
   "codemirror_mode": {
    "name": "ipython",
    "version": 3
   },
   "file_extension": ".py",
   "mimetype": "text/x-python",
   "name": "python",
   "nbconvert_exporter": "python",
   "pygments_lexer": "ipython3",
   "version": "3.7.3"
  }
 },
 "nbformat": 4,
 "nbformat_minor": 2
}
